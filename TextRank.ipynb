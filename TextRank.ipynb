{
 "cells": [
  {
   "cell_type": "code",
   "execution_count": 5,
   "metadata": {},
   "outputs": [
    {
     "name": "stdout",
     "output_type": "stream",
     "text": [
      "\" 永磁电机驱动的纯电动大巴车坡道起步防溜策略 \"  10 Keywords - TextRank :\n",
      "控制 防溜 电机 永磁 单元 踏板 策略 车辆 整车 转速\n",
      "\" 机动车辆车门的肘靠 \"  10 Keywords - TextRank :\n",
      "结构 溃缩 车辆 车门 机动车辆 吸收 负荷 增加 交叉 元件\n",
      "\" 仪表板支撑结构 \"  10 Keywords - TextRank :\n",
      "支架 支撑 横向 仪表板 偏压 端部 导引 面板 车身 车辆\n",
      "\" 铰接的头枕总成 \"  10 Keywords - TextRank :\n",
      "头枕 构件 座椅 靠背 联接 支承 结构 枢转地 总成 驱动器\n",
      "\" 用于评估和控制电池系统的系统和方法 \"  10 Keywords - TextRank :\n",
      "电池 系统 总和 容量 控制 分部 计算 方法 利用 独立\n",
      "\" 侧气囊装置 \"  10 Keywords - TextRank :\n",
      "织物 结构 结合部 膨胀 横向 分隔 装置 越过 延伸 内管\n",
      "\" 制造气囊的方法 \"  10 Keywords - TextRank :\n",
      "织物 结构 主体 气囊 制造 部分 部上 安装 重叠 方法\n",
      "\" 上部椅背枢轴系统 \"  10 Keywords - TextRank :\n",
      "椅背 结构 枢轴 位置 悬挂 组件 总成 耦接 斜倚 竖直\n",
      "\" 用于在机动车的行驶过程中关闭和启动内燃机的方法 \"  10 Keywords - TextRank :\n",
      "方法 内燃机 关闭 启动 行驶 状态 机动车 变速器 过程 手动\n",
      "\" 半倾斜货箱卸载系统 \"  10 Keywords - TextRank :\n",
      "倾斜 部分 货箱 具有 纵向 卸载 运输工具 最靠近 系统 变型\n"
     ]
    }
   ],
   "source": [
    "#!/usr/bin/python\n",
    "# coding=utf-8\n",
    "# 采用TextRank方法提取文本关键词\n",
    "import sys\n",
    "import pandas as pd\n",
    "import jieba.analyse\n",
    "\"\"\"\n",
    "       TextRank权重：\n",
    "\n",
    "            1、将待抽取关键词的文本进行分词、去停用词、筛选词性\n",
    "            2、以固定窗口大小(默认为5，通过span属性调整)，词之间的共现关系，构建图\n",
    "            3、计算图中节点的PageRank，注意是无向带权图\n",
    "\"\"\"\n",
    "\n",
    "# 处理标题和摘要，提取关键词\n",
    "def getKeywords_textrank(data,topK):\n",
    "    idList,titleList,abstractList = data['id'],data['title'],data['abstract']\n",
    "    ids, titles, keys = [], [], []\n",
    "    for index in range(len(idList)):\n",
    "        text = '%s。%s' % (titleList[index], abstractList[index]) # 拼接标题和摘要\n",
    "        jieba.analyse.set_stop_words(\"data/stopWord.txt\") # 加载自定义停用词表\n",
    "        print (\"\\\"\",titleList[index],\"\\\"\" , \" 10 Keywords - TextRank :\")\n",
    "        keywords = jieba.analyse.textrank(text, topK=topK, allowPOS=('n','nz','v','vd','vn','l','a','d'))  # TextRank关键词提取，词性筛选\n",
    "        word_split = \" \".join(keywords)\n",
    "        print (word_split)\n",
    "        keys.append(word_split)\n",
    "        ids.append(idList[index])\n",
    "        titles.append(titleList[index])\n",
    "\n",
    "    result = pd.DataFrame({\"id\": ids, \"title\": titles, \"key\": keys}, columns=['id', 'title', 'key'])\n",
    "    return result\n",
    "\n",
    "def main():\n",
    "    dataFile = 'data/sample_data.csv'\n",
    "    data = pd.read_csv(dataFile)\n",
    "    result = getKeywords_textrank(data,10)\n",
    "    result.to_csv(\"result/keys_TextRank.csv\",index=False)\n",
    "\n",
    "if __name__ == '__main__':\n",
    "    main()"
   ]
  },
  {
   "cell_type": "code",
   "execution_count": null,
   "metadata": {},
   "outputs": [],
   "source": []
  },
  {
   "cell_type": "code",
   "execution_count": null,
   "metadata": {},
   "outputs": [],
   "source": []
  },
  {
   "cell_type": "code",
   "execution_count": null,
   "metadata": {},
   "outputs": [],
   "source": []
  },
  {
   "cell_type": "code",
   "execution_count": null,
   "metadata": {},
   "outputs": [],
   "source": []
  }
 ],
 "metadata": {
  "kernelspec": {
   "display_name": "Python 3",
   "language": "python",
   "name": "python3"
  },
  "language_info": {
   "codemirror_mode": {
    "name": "ipython",
    "version": 3
   },
   "file_extension": ".py",
   "mimetype": "text/x-python",
   "name": "python",
   "nbconvert_exporter": "python",
   "pygments_lexer": "ipython3",
   "version": "3.6.5"
  }
 },
 "nbformat": 4,
 "nbformat_minor": 2
}
